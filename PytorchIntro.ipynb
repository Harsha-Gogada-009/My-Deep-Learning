{
 "cells": [
  {
   "cell_type": "code",
   "execution_count": 1,
   "id": "bba03473-6d77-4bfd-9b55-b9170caafc67",
   "metadata": {},
   "outputs": [],
   "source": [
    "import torch"
   ]
  },
  {
   "cell_type": "code",
   "execution_count": 2,
   "id": "c51d27de-9798-4922-8851-6f9a338fcd5a",
   "metadata": {},
   "outputs": [],
   "source": [
    "import numpy as np"
   ]
  },
  {
   "cell_type": "code",
   "execution_count": 3,
   "id": "a7aa4a2f-a130-495b-bea6-7fc0e5be395b",
   "metadata": {},
   "outputs": [
    {
     "name": "stdout",
     "output_type": "stream",
     "text": [
      "tensor([2, 2, 1])\n"
     ]
    }
   ],
   "source": [
    "a = torch.tensor([2,2,1])\n",
    "print(a)"
   ]
  },
  {
   "cell_type": "code",
   "execution_count": 4,
   "id": "47346665-06a9-420c-8e44-2673437f1087",
   "metadata": {},
   "outputs": [],
   "source": [
    "b = torch.tensor([[1,2,3], [4,7,8] , [11,2,55]])"
   ]
  },
  {
   "cell_type": "code",
   "execution_count": 5,
   "id": "2c4d3ac8-a74d-4843-9ac9-0c471a3b46ad",
   "metadata": {},
   "outputs": [
    {
     "name": "stdout",
     "output_type": "stream",
     "text": [
      "torch.Size([3])\n",
      "torch.Size([3])\n"
     ]
    }
   ],
   "source": [
    "print(a.shape)\n",
    "print(a.size())"
   ]
  },
  {
   "cell_type": "code",
   "execution_count": 6,
   "id": "eee7a40a-ca34-455f-91ab-e145f1959238",
   "metadata": {},
   "outputs": [],
   "source": [
    "c = torch.FloatTensor([[1,2,3], [4,7,8] , [11,2,55]])"
   ]
  },
  {
   "cell_type": "code",
   "execution_count": 7,
   "id": "bf091b20-291a-42ab-b6bb-e5934f071b16",
   "metadata": {},
   "outputs": [
    {
     "name": "stdout",
     "output_type": "stream",
     "text": [
      "tensor([[ 1],\n",
      "        [ 2],\n",
      "        [ 3],\n",
      "        [ 4],\n",
      "        [ 7],\n",
      "        [ 8],\n",
      "        [11],\n",
      "        [ 2],\n",
      "        [55]])\n"
     ]
    }
   ],
   "source": [
    "print(b.view(-1,1)) # -1 figures out the required dimension itself\n",
    "# b = (b.view(-1,1) possible"
   ]
  },
  {
   "cell_type": "code",
   "execution_count": 8,
   "id": "884c3794-e52c-44b7-951c-9f07ceda621a",
   "metadata": {},
   "outputs": [
    {
     "name": "stdout",
     "output_type": "stream",
     "text": [
      "tensor([[[ 2.0479, -0.3020,  2.0044, -0.1300],\n",
      "         [ 0.9332, -0.8251, -0.0837,  0.1135],\n",
      "         [ 0.8530,  1.1608, -1.1628,  0.0386]],\n",
      "\n",
      "        [[ 1.6475, -0.6052, -1.3847, -1.1973],\n",
      "         [ 1.1427, -0.8079, -1.1441, -0.6520],\n",
      "         [-0.7604,  0.9694, -0.2762,  0.5961]]])\n",
      "<class 'torch.Tensor'>\n"
     ]
    }
   ],
   "source": [
    "threeD = torch.randn(2,3,4)\n",
    "print(threeD)\n",
    "print(type(threeD))"
   ]
  },
  {
   "cell_type": "code",
   "execution_count": 9,
   "id": "869097a6-acf2-46dd-95e4-f0f3cea1369e",
   "metadata": {},
   "outputs": [
    {
     "name": "stdout",
     "output_type": "stream",
     "text": [
      "tensor([6, 8, 7, 6, 9])\n",
      "torch.int64\n"
     ]
    }
   ],
   "source": [
    "inarr = torch.randint(6,10,(5,))\n",
    "print(inarr)\n",
    "print(inarr.dtype)"
   ]
  },
  {
   "cell_type": "code",
   "execution_count": 10,
   "id": "3ac19b93-5dec-4e13-828a-2cadb523020d",
   "metadata": {},
   "outputs": [
    {
     "name": "stdout",
     "output_type": "stream",
     "text": [
      "5\n"
     ]
    }
   ],
   "source": [
    "print(torch.numel(inarr))"
   ]
  },
  {
   "cell_type": "code",
   "execution_count": 11,
   "id": "1cc0df80-3b2e-49ae-b964-f4dab7f23c5b",
   "metadata": {},
   "outputs": [
    {
     "name": "stdout",
     "output_type": "stream",
     "text": [
      "tensor([[0., 0., 0.],\n",
      "        [0., 0., 0.],\n",
      "        [0., 0., 0.]]) tensor([[1., 1.],\n",
      "        [1., 1.]])\n"
     ]
    }
   ],
   "source": [
    "z = torch.zeros(3,3)\n",
    "o = torch.ones(2,2)\n",
    "print(z , o)"
   ]
  },
  {
   "cell_type": "code",
   "execution_count": 12,
   "id": "ce77f5ee-698c-4089-9a3e-7e7c04d5b13f",
   "metadata": {},
   "outputs": [
    {
     "name": "stdout",
     "output_type": "stream",
     "text": [
      "[[1. 1.]\n",
      " [1. 1.]]\n",
      "tensor([[2., 2.],\n",
      "        [2., 2.]])\n",
      "[[2. 2.]\n",
      " [2. 2.]]\n"
     ]
    }
   ],
   "source": [
    "ao = o.numpy()\n",
    "print(ao)\n",
    "o.add_(1)\n",
    "print(o)\n",
    "print(ao)"
   ]
  },
  {
   "cell_type": "code",
   "execution_count": 13,
   "id": "a4d2a8f5-5011-4c71-8f58-7e0f2411b131",
   "metadata": {},
   "outputs": [
    {
     "name": "stdout",
     "output_type": "stream",
     "text": [
      "[1. 1. 1. 1. 1.]\n",
      "tensor([1., 1., 1., 1., 1.], dtype=torch.float64)\n",
      "[2. 2. 2. 2. 2.]\n",
      "tensor([2., 2., 2., 2., 2.], dtype=torch.float64)\n"
     ]
    }
   ],
   "source": [
    "fa = np.ones(5)\n",
    "print(fa)\n",
    "ts = torch.from_numpy(fa)\n",
    "print(ts)\n",
    "np.add(fa ,1 , out = fa)\n",
    "print(fa)\n",
    "print(ts)"
   ]
  },
  {
   "cell_type": "code",
   "execution_count": null,
   "id": "6fcef50a-2361-44f8-affc-11eea99c9416",
   "metadata": {},
   "outputs": [],
   "source": [
    "#cuda"
   ]
  },
  {
   "cell_type": "code",
   "execution_count": 15,
   "id": "a07ab6f0-5a82-4ada-845e-fb8c3209e162",
   "metadata": {},
   "outputs": [
    {
     "name": "stdout",
     "output_type": "stream",
     "text": [
      "tensor([2, 3, 4, 5])\n"
     ]
    }
   ],
   "source": [
    "l = [2,3,4,5]\n",
    "to_list = torch.tensor(l)\n",
    "print(to_list)"
   ]
  },
  {
   "cell_type": "code",
   "execution_count": 27,
   "id": "381dd544-6c17-4e39-9cd2-615d1eccaadf",
   "metadata": {},
   "outputs": [
    {
     "name": "stdout",
     "output_type": "stream",
     "text": [
      "tensor([[-1.1349,  0.7233, -0.6192,  1.7935, -0.0526],\n",
      "        [ 0.2190,  0.0789, -1.0947, -1.0166, -0.8729]])\n",
      "tensor([[-1.3235, -0.5728,  0.3216,  0.6369, -2.2955],\n",
      "        [-0.5315, -1.1742, -0.8463,  0.1914, -0.3527],\n",
      "        [-0.3610,  0.1589, -0.6193, -0.2063, -1.5393]])\n",
      "tensor([[-1.1349,  0.7233, -0.6192,  1.7935, -0.0526],\n",
      "        [ 0.2190,  0.0789, -1.0947, -1.0166, -0.8729],\n",
      "        [-1.3235, -0.5728,  0.3216,  0.6369, -2.2955],\n",
      "        [-0.5315, -1.1742, -0.8463,  0.1914, -0.3527],\n",
      "        [-0.3610,  0.1589, -0.6193, -0.2063, -1.5393]])\n"
     ]
    }
   ],
   "source": [
    "first = torch.randn(2,5)\n",
    "second = torch.randn(3,5)\n",
    "con1 = torch.cat([first , second])\n",
    "print(first)\n",
    "print(second)\n",
    "print(con1)"
   ]
  },
  {
   "cell_type": "code",
   "execution_count": 39,
   "id": "551e8ef6-30ff-47b6-8bba-9b7dc3bf4522",
   "metadata": {},
   "outputs": [
    {
     "name": "stdout",
     "output_type": "stream",
     "text": [
      "tensor([[[1, 2, 3, 4],\n",
      "         [6, 7, 8, 9]]])\n"
     ]
    }
   ],
   "source": [
    "tensor_1 = torch.tensor([[1, 2, 3, 4],[6,7,8,9]])\n",
    "tensor_a = torch.unsqueeze(tensor_1, 0)\n",
    "print(tensor_a)"
   ]
  },
  {
   "cell_type": "code",
   "execution_count": 41,
   "id": "426c2937-5482-4dfc-9684-cf4d1505b424",
   "metadata": {},
   "outputs": [
    {
     "name": "stdout",
     "output_type": "stream",
     "text": [
      "tensor([5., 7., 9.], grad_fn=<AddBackward0>)\n",
      "<AddBackward0 object at 0x0000018F6AEEF310>\n",
      "tensor(21., grad_fn=<SumBackward0>)\n",
      "<SumBackward0 object at 0x0000018F6AEEF310>\n"
     ]
    }
   ],
   "source": [
    "#Remember, If requires_grad=True, the Tensor object keeps track of how it was created.\n",
    "x = torch.tensor([1., 2., 3], requires_grad=True)\n",
    "y = torch.tensor([4., 5., 6], requires_grad=True)\n",
    "#Notice that both x and y have their required_grad set to true, therefore we an compute gradients with respect to them\n",
    "z = x + y\n",
    "print(z)\n",
    "# z knows that is was created as a result of addition of x and y. It knows that it wasn't read in from a file\n",
    "print(z.grad_fn)\n",
    "#And if we go further on this\n",
    "s = z.sum()\n",
    "print(s)\n",
    "print(s.grad_fn)"
   ]
  },
  {
   "cell_type": "code",
   "execution_count": 47,
   "id": "2bbf1d89-4015-4dc6-b0e5-b23de30029d4",
   "metadata": {},
   "outputs": [
    {
     "name": "stdout",
     "output_type": "stream",
     "text": [
      "tensor([2., 2., 2.])\n"
     ]
    }
   ],
   "source": [
    "s.backward()\n",
    "print(x.grad)"
   ]
  },
  {
   "cell_type": "code",
   "execution_count": null,
   "id": "5ca29adb-3735-4b35-acc4-a39508650ba4",
   "metadata": {},
   "outputs": [],
   "source": [
    "#Remember, If requires_grad=True, the Tensor object keeps track of how it was created.\n",
    "x = torch.tensor([1., 2., 3], requires_grad=True)\n",
    "y = torch.tensor([4., 5., 6], requires_grad=True)\n",
    "#Notice that both x and y have their required_grad set to true, therefore we an compute gradients with respect to them\n",
    "z = x + y\n",
    "print(z)\n",
    "# z knows that is was created as a result of addition of x and y. It knows that it wasn't read in from a file\n",
    "print(z.grad_fn)\n",
    "#And if we go further on this\n",
    "s = z.sum()\n",
    "print(s)\n",
    "print(s.grad_fn)"
   ]
  },
  {
   "cell_type": "code",
   "execution_count": null,
   "id": "50947863-cbbc-46b5-87ae-4d7f02bfa80e",
   "metadata": {},
   "outputs": [],
   "source": []
  }
 ],
 "metadata": {
  "kernelspec": {
   "display_name": "Python 3 (ipykernel)",
   "language": "python",
   "name": "python3"
  },
  "language_info": {
   "codemirror_mode": {
    "name": "ipython",
    "version": 3
   },
   "file_extension": ".py",
   "mimetype": "text/x-python",
   "name": "python",
   "nbconvert_exporter": "python",
   "pygments_lexer": "ipython3",
   "version": "3.12.4"
  }
 },
 "nbformat": 4,
 "nbformat_minor": 5
}
