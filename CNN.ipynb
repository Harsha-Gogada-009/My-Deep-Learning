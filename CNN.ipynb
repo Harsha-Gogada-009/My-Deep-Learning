{
 "cells": [
  {
   "cell_type": "code",
   "execution_count": null,
   "id": "40aeb947-de7e-4ba6-bbab-cf3505e9b726",
   "metadata": {
    "id": "40aeb947-de7e-4ba6-bbab-cf3505e9b726"
   },
   "outputs": [],
   "source": [
    "import torch\n",
    "import torch.nn as  nn\n",
    "import torchvision.transforms as transforms\n",
    "import torchvision.datasets as datasets"
   ]
  },
  {
   "cell_type": "code",
   "execution_count": null,
   "id": "60950d37-2c97-43bc-9152-a4cec42f4309",
   "metadata": {
    "id": "60950d37-2c97-43bc-9152-a4cec42f4309"
   },
   "outputs": [],
   "source": [
    "import numpy "
   ]
  },
  {
   "cell_type": "code",
   "execution_count": null,
   "id": "0f7daecb-5c0c-422e-9417-8a4770b75c8e",
   "metadata": {
    "id": "0f7daecb-5c0c-422e-9417-8a4770b75c8e"
   },
   "outputs": [],
   "source": [
    "import os\n",
    "os.environ[\"KMP_DUPLICATE_LIB_OK\"] = \"True\" "
   ]
  },
  {
   "cell_type": "code",
   "execution_count": null,
   "id": "ac7cf846-71d3-49ee-9f70-7759cb8d7299",
   "metadata": {
    "id": "ac7cf846-71d3-49ee-9f70-7759cb8d7299"
   },
   "outputs": [],
   "source": [
    "mean_gray = 0.1307 #already known values\n",
    "std_gray = 0.3081\n",
    "transforms = transforms.Compose([transforms.ToTensor() ,  transforms.Normalize((mean_gray), (std_gray)) ])\n",
    "#normalizing the data output will be in form of tensor"
   ]
  },
  {
   "cell_type": "code",
   "execution_count": null,
   "id": "8da2f0b9-b50e-4b4f-9b4c-129611915877",
   "metadata": {
    "colab": {
     "base_uri": "https://localhost:8080/"
    },
    "id": "8da2f0b9-b50e-4b4f-9b4c-129611915877",
    "outputId": "de9a0a57-d0c9-454e-fe6e-d158cae8927f"
   },
   "outputs": [
    {
     "name": "stdout",
     "output_type": "stream",
     "text": [
      "6\n"
     ]
    }
   ],
   "source": [
    "print(2+4)"
   ]
  },
  {
   "cell_type": "code",
   "execution_count": null,
   "id": "6fd6ec20-19ef-42bd-a0ac-87ed56f5abde",
   "metadata": {
    "id": "6fd6ec20-19ef-42bd-a0ac-87ed56f5abde"
   },
   "outputs": [],
   "source": [
    "trainDataset = datasets.MNIST(root=\"C:\\\\Users\\\\harsh\\\\Z\\\\BootCamp\\\\mnistData\", train=True, transform=transforms, download=True)\n",
    "testDataset = datasets.MNIST(root=\"C:\\\\Users\\\\harsh\\\\Z\\\\BootCamp\\\\mnistData\", train=False, transform=transforms)\n"
   ]
  },
  {
   "cell_type": "code",
   "execution_count": null,
   "id": "0c887708-0ac4-47be-9495-d0287e260353",
   "metadata": {
    "colab": {
     "base_uri": "https://localhost:8080/"
    },
    "id": "0c887708-0ac4-47be-9495-d0287e260353",
    "outputId": "ac5ee4ff-035d-4666-a594-c119d4ad5bf8"
   },
   "outputs": [
    {
     "name": "stdout",
     "output_type": "stream",
     "text": [
      "6\n"
     ]
    }
   ],
   "source": [
    "print(2+4)"
   ]
  },
  {
   "cell_type": "code",
   "execution_count": null,
   "id": "51455d05-30ee-4824-a92b-fb05b584484c",
   "metadata": {
    "colab": {
     "base_uri": "https://localhost:8080/",
     "height": 447
    },
    "id": "51455d05-30ee-4824-a92b-fb05b584484c",
    "outputId": "94cbc00a-10e8-4d23-d128-eea4c9ff8776"
   },
   "outputs": [
    {
     "data": {
      "text/plain": [
       "<matplotlib.image.AxesImage at 0x7aafec12ef10>"
      ]
     },
     "execution_count": 36,
     "metadata": {},
     "output_type": "execute_result"
    },
    {
     "data": {
      "image/png": "[encoded data removed]",
      "text/plain": [
       "<Figure size 640x480 with 1 Axes>"
      ]
     },
     "metadata": {},
     "output_type": "display_data"
    }
   ],
   "source": [
    "import matplotlib.pyplot as plt\n",
    "randomImage = trainDataset[20][0].numpy() * std_gray + mean_gray     #zero mean image , one is lable - the second value\n",
    "plt.imshow(randomImage.reshape(28,28) , cmap = \"gray\")"
   ]
  },
  {
   "cell_type": "code",
   "execution_count": null,
   "id": "bda15ff5-50df-45e3-a8f2-b331d79772b2",
   "metadata": {
    "id": "bda15ff5-50df-45e3-a8f2-b331d79772b2"
   },
   "outputs": [],
   "source": [
    "#moral of the story have multiple soruces of information time wasted one hour"
   ]
  },
  {
   "cell_type": "code",
   "execution_count": null,
   "id": "61e2fd1e-a80d-4405-ba00-87d155eb19c4",
   "metadata": {
    "id": "61e2fd1e-a80d-4405-ba00-87d155eb19c4"
   },
   "outputs": [],
   "source": [
    "batch_size = 100\n",
    "train_loader = torch.utils.data.DataLoader(dataset = trainDataset , batch_size = batch_size , shuffle = True)\n",
    "test_loader = torch.utils.data.DataLoader(dataset = testDataset , batch_size = batch_size , shuffle = False)"
   ]
  },
  {
   "cell_type": "code",
   "execution_count": null,
   "id": "41c2379d-402f-4c2a-9063-cbcd27898284",
   "metadata": {
    "colab": {
     "base_uri": "https://localhost:8080/"
    },
    "id": "41c2379d-402f-4c2a-9063-cbcd27898284",
    "outputId": "cfcb65b5-9652-4766-9f42-01f993f6e6bc"
   },
   "outputs": [
    {
     "name": "stdout",
     "output_type": "stream",
     "text": [
      "600\n"
     ]
    }
   ],
   "source": [
    "print(len(train_loader))"
   ]
  },
  {
   "cell_type": "code",
   "execution_count": null,
   "id": "6a022957-401d-4c40-8d04-582047ce7d17",
   "metadata": {
    "id": "6a022957-401d-4c40-8d04-582047ce7d17"
   },
   "outputs": [],
   "source": [
    "class CNN(nn.Module):\n",
    "    def __init__(self):\n",
    "        super(CNN,self).__init__()\n",
    "        self.cnn1 = nn.Conv2d(in_channels = 1 , out_channels = 8 , kernel_size = 3  ,stride = 1 , padding = 1)\n",
    "        #outputSize = 28 * 28 *8\n",
    "        self.batchnorm1 = nn.BatchNorm2d(8)\n",
    "        self.relu = nn.ReLU()\n",
    "        self.maxpool = nn.MaxPool2d(kernel_size = 2)\n",
    "        #the outpue size = 28/ 2 = 14\n",
    "        self.cnn2 = nn.Conv2d(in_channels = 8 , out_channels = 32 , kernel_size = 5 , stride = 1 , padding = 2)\n",
    "        #output size = 32 f maps\n",
    "        self.batchnorm2 = nn.BatchNorm2d(32)\n",
    "        #flattening in here\n",
    "        self.fc1 = nn.Linear(1568 , 600)\n",
    "        #applying drop out layers\n",
    "        self.dropout = nn.Dropout(p = 0.5)\n",
    "        self.fc2 = nn.Linear(600, 10)\n",
    "\n",
    "    def forward(self , X):\n",
    "        out = self.cnn1(X)\n",
    "        out = self.batchnorm1(out)\n",
    "        out =self.relu(out)\n",
    "        out = self.maxpool(out)\n",
    "        out = self.cnn2(out)\n",
    "        out = self.batchnorm2(out)\n",
    "        out = self.relu(out)\n",
    "        out = self.maxpool(out)\n",
    "\n",
    "        out =  out.view(out.size(0), -1)\n",
    "\n",
    "        out = self.fc1(out)\n",
    "        out = self.relu(out)\n",
    "        out = self.dropout(out)\n",
    "        out = self.fc2(out)\n",
    "        return out"
   ]
  },
  {
   "cell_type": "code",
   "execution_count": null,
   "id": "4a8474e7-1c7b-4522-adb8-b48d3c3def72",
   "metadata": {
    "id": "4a8474e7-1c7b-4522-adb8-b48d3c3def72"
   },
   "outputs": [],
   "source": [
    "model = CNN()\n",
    "loss_fn = nn.CrossEntropyLoss()\n",
    "optimizer = torch.optim.Adam(model.parameters() , lr = 0.01)"
   ]
  },
  {
   "cell_type": "code",
   "execution_count": null,
   "id": "fdbac19b-8b81-4fd0-b0fb-50cda43fc8b7",
   "metadata": {
    "colab": {
     "base_uri": "https://localhost:8080/"
    },
    "id": "fdbac19b-8b81-4fd0-b0fb-50cda43fc8b7",
    "outputId": "1a51009d-ea0f-4ea1-8726-0b7cd4ae9ce1"
   },
   "outputs": [
    {
     "name": "stdout",
     "output_type": "stream",
     "text": [
      "For one iteration, this is what happens:\n",
      "Input Shape: torch.Size([100, 1, 28, 28])\n",
      "Labels Shape: torch.Size([100])\n",
      "Outputs Shape: torch.Size([100, 10])\n",
      "Predicted Shape: torch.Size([100])\n",
      "Predicted Tensor:\n",
      "tensor([2, 2, 2, 9, 6, 2, 9, 2, 5, 0, 2, 5, 2, 5, 3, 9, 2, 2, 2, 2, 5, 2, 5, 2,\n",
      "        2, 5, 2, 5, 9, 9, 5, 9, 2, 5, 9, 5, 5, 5, 5, 3, 1, 7, 9, 5, 9, 5, 7, 2,\n",
      "        9, 5, 2, 9, 9, 2, 9, 1, 9, 5, 4, 5, 2, 2, 5, 9, 2, 2, 9, 5, 2, 5, 5, 5,\n",
      "        9, 9, 5, 2, 1, 5, 4, 5, 3, 5, 5, 2, 2, 9, 9, 9, 2, 5, 4, 5, 5, 2, 2, 2,\n",
      "        3, 4, 5, 5], device='cuda:0')\n",
      "Correct Predictions: 9\n",
      "Correct Predictions: 9\n"
     ]
    }
   ],
   "source": [
    "from torch.autograd import Variable\n",
    "\n",
    "# Move model to GPU if available\n",
    "if torch.cuda.is_available():\n",
    "    model = model.cuda()\n",
    "\n",
    "iteration = 0\n",
    "correct_nodata = 0\n",
    "correct_data = 0\n",
    "\n",
    "for i, (inputs, labels) in enumerate(train_loader):\n",
    "    if iteration == 1:\n",
    "        break\n",
    "\n",
    "    inputs = Variable(inputs)\n",
    "    labels = Variable(labels)\n",
    "\n",
    "    # Move inputs and labels to GPU if available\n",
    "    if torch.cuda.is_available():\n",
    "        inputs = inputs.cuda()\n",
    "        labels = labels.cuda()\n",
    "\n",
    "    print(\"For one iteration, this is what happens:\")\n",
    "    print(\"Input Shape:\", inputs.shape)\n",
    "    print(\"Labels Shape:\", labels.shape)\n",
    "\n",
    "    # Forward pass\n",
    "    output = model(inputs)  # Ensure model is on GPU\n",
    "\n",
    "    print(\"Outputs Shape:\", output.shape)\n",
    "\n",
    "    # Predictions without `.data`\n",
    "    _, predicted_nodata = torch.max(output, 1)\n",
    "    print(\"Predicted Shape:\", predicted_nodata.shape)\n",
    "    print(\"Predicted Tensor:\")\n",
    "    print(predicted_nodata)\n",
    "\n",
    "    correct_nodata += (predicted_nodata == labels).sum().item()\n",
    "    print(\"Correct Predictions:\", correct_nodata)\n",
    "\n",
    "    # Predictions using `.data` (optional)\n",
    "    _, predicted_data = torch.max(output.data, 1)\n",
    "    correct_data += (predicted_data == labels.data).sum().item()\n",
    "    print(\"Correct Predictions:\", correct_data)\n",
    "\n",
    "    iteration += 1\n"
   ]
  },
  {
   "cell_type": "code",
   "execution_count": null,
   "id": "5ab830a7-5778-4dcc-be32-37b7d55fd0a6",
   "metadata": {
    "colab": {
     "base_uri": "https://localhost:8080/"
    },
    "id": "5ab830a7-5778-4dcc-be32-37b7d55fd0a6",
    "outputId": "efad0f84-f85a-4c59-e974-06b2227f516f"
   },
   "outputs": [
    {
     "name": "stdout",
     "output_type": "stream",
     "text": [
      "Epoch 1/10, Training Loss: 0.832, Training Accuracy: 0.755, Testing Loss: 5.108, Testing Acc: 0.967\n",
      "Epoch 2/10, Training Loss: 0.311, Training Accuracy: 0.896, Testing Loss: 1.937, Testing Acc: 0.979\n",
      "Epoch 3/10, Training Loss: 0.187, Training Accuracy: 0.942, Testing Loss: 1.166, Testing Acc: 0.986\n",
      "Epoch 4/10, Training Loss: 0.128, Training Accuracy: 0.961, Testing Loss: 0.812, Testing Acc: 0.986\n",
      "Epoch 5/10, Training Loss: 0.108, Training Accuracy: 0.969, Testing Loss: 0.685, Testing Acc: 0.990\n",
      "Epoch 6/10, Training Loss: 0.093, Training Accuracy: 0.972, Testing Loss: 0.590, Testing Acc: 0.990\n",
      "Epoch 7/10, Training Loss: 0.087, Training Accuracy: 0.975, Testing Loss: 0.560, Testing Acc: 0.990\n",
      "Epoch 8/10, Training Loss: 0.081, Training Accuracy: 0.977, Testing Loss: 0.535, Testing Acc: 0.989\n",
      "Epoch 9/10, Training Loss: 0.075, Training Accuracy: 0.978, Testing Loss: 0.494, Testing Acc: 0.989\n",
      "Epoch 10/10, Training Loss: 0.068, Training Accuracy: 0.980, Testing Loss: 0.454, Testing Acc: 0.989\n"
     ]
    }
   ],
   "source": [
    "import torch\n",
    "\n",
    "num_epochs = 10\n",
    "train_loss = []\n",
    "train_accuracy = []\n",
    "test_loss = []\n",
    "test_accuracy = []\n",
    "\n",
    "# Move model to GPU if available\n",
    "if torch.cuda.is_available():\n",
    "    model = model.cuda()\n",
    "    loss_fn = loss_fn.cuda()  # Move loss function to GPU\n",
    "\n",
    "for epoch in range(num_epochs):\n",
    "    correct = 0\n",
    "    iterations = 0\n",
    "    iter_loss = 0.0\n",
    "\n",
    "    model.train()\n",
    "\n",
    "    for i, (inputs, labels) in enumerate(train_loader):\n",
    "        # Move data to GPU if available\n",
    "        if torch.cuda.is_available():\n",
    "            inputs, labels = inputs.cuda(), labels.cuda()\n",
    "\n",
    "        outputs = model(inputs)\n",
    "        loss = loss_fn(outputs, labels)\n",
    "        iter_loss += loss.item()\n",
    "\n",
    "        optimizer.zero_grad()\n",
    "        loss.backward()\n",
    "        optimizer.step()\n",
    "\n",
    "        _, predicted = torch.max(outputs, 1)  # Get predicted class index\n",
    "        correct += (predicted == labels).sum().item()  # Count correct predictions\n",
    "        iterations += 1\n",
    "\n",
    "    train_loss.append(iter_loss / iterations)\n",
    "    train_accuracy.append(correct / len(trainDataset))\n",
    "\n",
    "    # Testing phase\n",
    "    loss = 0.0\n",
    "    correct = 0\n",
    "    iterations = 0\n",
    "\n",
    "    model.eval()  # Set model to evaluation mode\n",
    "\n",
    "    with torch.no_grad():  # Disable gradient computation for inference\n",
    "        for i, (inputs, labels) in enumerate(test_loader):\n",
    "            if torch.cuda.is_available():\n",
    "                inputs, labels = inputs.cuda(), labels.cuda()\n",
    "\n",
    "            outputs = model(inputs)\n",
    "            loss = loss_fn(outputs, labels)\n",
    "            iter_loss += loss.item()\n",
    "\n",
    "            _, predicted = torch.max(outputs, 1)\n",
    "            correct += (predicted == labels).sum().item()\n",
    "            iterations += 1\n",
    "\n",
    "    test_loss.append(iter_loss / iterations)\n",
    "    test_accuracy.append(correct / len(testDataset))\n",
    "\n",
    "    print('Epoch {}/{}, Training Loss: {:.3f}, Training Accuracy: {:.3f}, Testing Loss: {:.3f}, Testing Acc: {:.3f}'\n",
    "          .format(epoch + 1, num_epochs, train_loss[-1], train_accuracy[-1], test_loss[-1], test_accuracy[-1]))\n"
   ]
  },
  {
   "cell_type": "code",
   "execution_count": null,
   "id": "K_SHvDuYJQVg",
   "metadata": {
    "id": "K_SHvDuYJQVg"
   },
   "outputs": [],
   "source": []
  },
  {
   "cell_type": "code",
   "execution_count": null,
   "id": "a5de8885-b62e-4080-81b7-06b0bfec815a",
   "metadata": {
    "colab": {
     "base_uri": "https://localhost:8080/",
     "height": 830
    },
    "id": "a5de8885-b62e-4080-81b7-06b0bfec815a",
    "outputId": "aa8546e6-99eb-442d-faae-a075fbcd69e0"
   },
   "outputs": [
    {
     "data": {
      "image/png": "[encoded data removed]",
      "text/plain": [
       "<Figure size 1000x1000 with 1 Axes>"
      ]
     },
     "metadata": {},
     "output_type": "display_data"
    }
   ],
   "source": [
    "f = plt.figure(figsize=(10, 10))\n",
    "plt.plot(train_loss, label='Training Loss')\n",
    "plt.plot(test_loss, label='Testing Loss')\n",
    "plt.legend()\n",
    "plt.show()"
   ]
  },
  {
   "cell_type": "code",
   "execution_count": null,
   "id": "ac4dd73f-a351-4f77-8a11-ee21f1c15694",
   "metadata": {
    "colab": {
     "base_uri": "https://localhost:8080/",
     "height": 831
    },
    "id": "ac4dd73f-a351-4f77-8a11-ee21f1c15694",
    "outputId": "dbbfc0f9-3731-4c6d-9617-bced10f90e94"
   },
   "outputs": [
    {
     "data": {
      "image/png": "[encoded data removed]",
      "text/plain": [
       "<Figure size 1000x1000 with 1 Axes>"
      ]
     },
     "metadata": {},
     "output_type": "display_data"
    }
   ],
   "source": [
    "\n",
    "# Accuracy\n",
    "f = plt.figure(figsize=(10, 10))\n",
    "plt.plot(train_accuracy, label='Training Accuracy')\n",
    "plt.plot(test_accuracy, label='Testing Accuracy')\n",
    "plt.legend()\n",
    "plt.show()"
   ]
  },
  {
   "cell_type": "code",
   "execution_count": null,
   "id": "icCYKwH6Jeyn",
   "metadata": {
    "colab": {
     "base_uri": "https://localhost:8080/"
    },
    "id": "icCYKwH6Jeyn",
    "outputId": "453a0a95-b408-42cd-dce8-60b8f74a6a0f"
   },
   "outputs": [
    {
     "name": "stdout",
     "output_type": "stream",
     "text": [
      "Prediction is 4\n",
      "Actual is : 3\n"
     ]
    }
   ],
   "source": [
    "img = testDataset[300][0].unsqueeze(0)  # Add batch dimension (1,1,28,28)\n",
    "label = testDataset[30][1]\n",
    "\n",
    "if torch.cuda.is_available():\n",
    "    model = model.cuda()\n",
    "    img = img.cuda()\n",
    "\n",
    "# Forward pass\n",
    "outputs = model(img)\n",
    "\n",
    "# Get predicted class\n",
    "_, predicted = torch.max(outputs, 1)\n",
    "\n",
    "print(\"Prediction is {}\".format(predicted.item()))\n",
    "print(\"Actual is : {}\".format(label))\n"
   ]
  }
 ],
 "metadata": {
  "accelerator": "GPU",
  "colab": {
   "gpuType": "T4",
   "provenance": []
  },
  "kernelspec": {
   "display_name": "Python 3 (ipykernel)",
   "language": "python",
   "name": "python3"
  },
  "language_info": {
   "codemirror_mode": {
    "name": "ipython",
    "version": 3
   },
   "file_extension": ".py",
   "mimetype": "text/x-python",
   "name": "python",
   "nbconvert_exporter": "python",
   "pygments_lexer": "ipython3",
   "version": "3.12.4"
  }
 },
 "nbformat": 4,
 "nbformat_minor": 5
}
