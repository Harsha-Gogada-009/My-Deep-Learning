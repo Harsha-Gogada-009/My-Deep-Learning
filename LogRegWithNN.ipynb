{
 "cells": [
  {
   "cell_type": "code",
   "execution_count": 12,
   "id": "e889773f-057c-4f48-bdaa-6046607c4a2c",
   "metadata": {},
   "outputs": [],
   "source": [
    "import numpy as np\n",
    "import matplotlib.pyplot as plt\n",
    "import h5py\n",
    "import scipy\n",
    "from PIL import Image\n",
    "from scipy import ndimage\n",
    "import pandas as pd\n",
    "%matplotlib inline"
   ]
  },
  {
   "cell_type": "code",
   "execution_count": 13,
   "id": "c2ab2ea8-60f7-41ad-a017-0cb9617c6ddf",
   "metadata": {},
   "outputs": [],
   "source": [
    "import h5py\n",
    "import numpy as np\n",
    "\n",
    "def load_dataset():\n",
    "    train = h5py.File(\"train_catvnoncat.h5\", \"r\")  \n",
    "    test = h5py.File(\"test_catvnoncat.h5\", \"r\")  \n",
    "\n",
    "    trainX_org = np.array(train[\"train_set_x\"][:])  \n",
    "    trainY_org = np.array(train[\"train_set_y\"][:])  \n",
    "    testX_org = np.array(test[\"test_set_x\"][:])\n",
    "    testY_org = np.array(test[\"test_set_y\"][:]) \n",
    "    classes = np.array(test[\"list_classes\"][:])  \n",
    "    \n",
    "    # Reshaping \n",
    "    trainY_org = trainY_org.reshape((1, trainY_org.shape[0]))  \n",
    "    testY_org = testY_org.reshape((1, testY_org.shape[0]))\n",
    "\n",
    "    return trainX_org, trainY_org, testX_org, testY_org, classes\n",
    "\n",
    "trainX_org, trainY_org, testX_org, testY_org , classes = load_dataset()"
   ]
  },
  {
   "cell_type": "code",
   "execution_count": 61,
   "id": "a5806e2f-2125-40e5-b517-5d948ba30e36",
   "metadata": {},
   "outputs": [
    {
     "name": "stdout",
     "output_type": "stream",
     "text": [
      "(1, 209)\n"
     ]
    },
    {
     "data": {
      "image/png": "[encoded data removed]",
      "text/plain": [
       "<Figure size 640x480 with 1 Axes>"
      ]
     },
     "metadata": {},
     "output_type": "display_data"
    },
    {
     "name": "stdout",
     "output_type": "stream",
     "text": [
      "[[0 0 1 0 0 0 0 1 0 0 0 1 0 1 1 0 0 0 0 1 0 0 0 0 1 1 0 1 0 1 0 0 0 0 0 0\n",
      "  0 0 1 0 0 1 1 0 0 0 0 1 0 0 1 0 0 0 1 0 1 1 0 1 1 1 0 0 0 0 0 0 1 0 0 1\n",
      "  0 0 0 0 0 0 0 0 0 0 0 1 1 0 0 0 1 0 0 0 1 1 1 0 0 1 0 0 0 0 1 0 1 0 1 1\n",
      "  1 1 1 1 0 0 0 0 0 1 0 0 0 1 0 0 1 0 1 0 1 1 0 0 0 1 1 1 1 1 0 0 0 0 1 0\n",
      "  1 1 1 0 1 1 0 0 0 1 0 0 1 0 0 0 0 0 1 0 1 0 1 0 0 1 1 1 0 0 1 1 0 1 0 1\n",
      "  0 0 0 0 0 1 0 0 1 0 0 0 1 0 0 0 0 1 0 0 1 0 0 0 0 0 0 0 0]]\n"
     ]
    }
   ],
   "source": [
    "image = trainX_org[23]\n",
    "#print(image)\n",
    "print(trainY_org.shape)\n",
    "plt.imshow(image)\n",
    "plt.show()\n",
    "print(trainY_org)"
   ]
  },
  {
   "cell_type": "code",
   "execution_count": 15,
   "id": "047ee0ac-2b94-4381-9c6d-0c3475fa0958",
   "metadata": {},
   "outputs": [],
   "source": [
    "trainXFlatten = trainX_org.reshape(trainX_org.shape[0] , -1).T\n",
    "testXFlatten = testX_org.reshape(testX_org.shape[0] , -1).T"
   ]
  },
  {
   "cell_type": "code",
   "execution_count": 16,
   "id": "f4b38c0e-15a7-450e-b767-f628330e2823",
   "metadata": {},
   "outputs": [
    {
     "name": "stdout",
     "output_type": "stream",
     "text": [
      "(12288, 50)\n"
     ]
    }
   ],
   "source": [
    "print(testXFlatten.shape)"
   ]
  },
  {
   "cell_type": "code",
   "execution_count": 63,
   "id": "b4140fc7-272b-43ea-b438-b5e0f3ea422c",
   "metadata": {},
   "outputs": [
    {
     "name": "stdout",
     "output_type": "stream",
     "text": [
      "[0.40784314 0.43137255 0.99215686 0.99607843 0.28235294 0.20784314\n",
      " 1.         0.94901961 0.09411765 0.84705882 0.14117647 1.\n",
      " 0.07058824 0.91764706 0.5254902  0.91764706 0.20392157 0.50588235\n",
      " 0.45882353 0.38823529 0.67058824 0.07843137 0.64705882 1.\n",
      " 0.28235294 0.52156863 0.80392157 0.27843137 0.44705882 0.09019608\n",
      " 0.04705882 0.14117647 0.03137255 0.73333333 0.91764706 0.39215686\n",
      " 0.43137255 0.32156863 0.75686275 0.05490196 0.47843137 0.43529412\n",
      " 0.30588235 0.14117647 0.1254902  0.18431373 0.58823529 0.18431373\n",
      " 0.07058824 0.63921569]\n"
     ]
    }
   ],
   "source": [
    "train_set_x = trainXFlatten/255.\n",
    "test_set_x = testXFlatten/255."
   ]
  },
  {
   "cell_type": "code",
   "execution_count": 18,
   "id": "c72e2873-10ea-424c-896a-d75e26c2b6b4",
   "metadata": {},
   "outputs": [],
   "source": [
    "def sigmoid(z):\n",
    "    return np.where(z >= 0, \n",
    "                    1 / (1 + np.exp(-z)), \n",
    "                    np.exp(z) / (1 + np.exp(z)))  \n"
   ]
  },
  {
   "cell_type": "code",
   "execution_count": 65,
   "id": "59613af1-c9e0-4625-a171-749e0dba4bf9",
   "metadata": {
    "scrolled": true
   },
   "outputs": [
    {
     "name": "stdout",
     "output_type": "stream",
     "text": [
      "(array([[0.],\n",
      "       [0.],\n",
      "       [0.],\n",
      "       [0.],\n",
      "       [0.]]), 0)\n"
     ]
    }
   ],
   "source": [
    "def initWeight(dim):\n",
    "    w = np.zeros([dim,1])\n",
    "    b = 0\n",
    "    return w , b\n",
    "print(initWeight(5))"
   ]
  },
  {
   "cell_type": "code",
   "execution_count": 67,
   "id": "f87c4688-bc85-4625-8696-d9ad65d3ef98",
   "metadata": {},
   "outputs": [],
   "source": [
    "def propagate(w,b,X,Y):\n",
    "    m = X.shape[1]\n",
    "    A = sigmoid(np.matmul(w.T , X) + b)\n",
    "    cost = -1/m*np.sum(Y*np.log(A)+ (1-Y)*np.log(1-A))\n",
    "    #backprop\n",
    "    dw = (1/m) * (np.matmul(X , (A-Y).T))\n",
    "    db = (1/m)*np.sum(A-Y)\n",
    "    cost = np.squeeze(cost)\n",
    "    grads = {\"dw\": dw,\n",
    "             \"db\": db}\n",
    "    return grads, cost "
   ]
  },
  {
   "cell_type": "code",
   "execution_count": 71,
   "id": "c487b825-0c9c-4044-a065-80a2c0bb1648",
   "metadata": {},
   "outputs": [],
   "source": [
    "def optimize(w, b, X, Y, num_iterations, learning_rate, print_cost = False):\n",
    "    costs = []\n",
    "    for i in range(num_iterations):\n",
    "        grads, cost = propagate(w,b,X,Y)\n",
    "        ### END CODE HERE ###\n",
    "        \n",
    "        # Retrieve derivatives from grads\n",
    "        dw = grads[\"dw\"]\n",
    "        db = grads[\"db\"]\n",
    "        w = w - learning_rate*dw\n",
    "        b = b - learning_rate*db\n",
    "        \n",
    "        if i % 100 == 0:\n",
    "            costs.append(cost)\n",
    "        \n",
    "        # Print the cost every 100 training iterations\n",
    "        if print_cost and i % 100 == 0:\n",
    "            print (\"Cost after iteration %i: %f\" %(i, cost))\n",
    "    \n",
    "    params = {\"w\": w,\n",
    "                  \"b\": b}\n",
    "        \n",
    "    grads = {\"dw\": dw,\n",
    "                 \"db\": db}\n",
    "        \n",
    "    return params, grads, costs\n"
   ]
  },
  {
   "cell_type": "code",
   "execution_count": 22,
   "id": "847813da-16df-4ada-8756-96e1d61a97c8",
   "metadata": {},
   "outputs": [],
   "source": [
    "def predict(w, b, X):\n",
    "    '''\n",
    "    Predict whether the label is 0 or 1 using learned logistic regression parameters (w, b)\n",
    "    \n",
    "    Arguments:\n",
    "    w -- weights, a numpy array of size (num_px * num_px * 3, 1)\n",
    "    b -- bias, a scalar\n",
    "    X -- data of size (num_px * num_px * 3, number of examples)\n",
    "    \n",
    "    Returns:\n",
    "    Y_prediction -- a numpy array (vector) containing all predictions (0/1) for the examples in X\n",
    "    '''\n",
    "    \n",
    "    m = X.shape[1]\n",
    "    Y_prediction = np.zeros((1,m))\n",
    "    w = w.reshape(X.shape[0], 1)\n",
    "    A = sigmoid(np.matmul(w.T, X)+ b) \n",
    "    ### END CODE HERE ###\n",
    "    \n",
    "    for i in range(A.shape[1]):\n",
    "        \n",
    "        # Convert probabilities A[0,i] to actual predictions p[0,i]\n",
    "        ### START CODE HERE ### (≈ 4 lines of code)\n",
    "        if A[0,i]< 0.5:\n",
    "            Y_prediction[0,i] = 0\n",
    "        else: \n",
    "            Y_prediction[0,i] = 1\n",
    "        ### END CODE HERE ###\n",
    "    \n",
    "    assert(Y_prediction.shape == (1, m))\n",
    "    \n",
    "    return Y_prediction"
   ]
  },
  {
   "cell_type": "code",
   "execution_count": 69,
   "id": "3bcc200d-e7f1-4832-9187-8055d6ed7762",
   "metadata": {},
   "outputs": [],
   "source": [
    "def model(X_train, Y_train, X_test, Y_test, num_iterations = 2000, learning_rate = 0.5, print_cost = False):\n",
    "    w, b = initWeight(X_train.shape[0])\n",
    "\n",
    "    # Gradient descent (≈ 1 line of code)\n",
    "    parameters, grads, costs = optimize(w, b, X_train, Y_train, num_iterations, learning_rate, print_cost = True)\n",
    "    \n",
    "    # Retrieve parameters w and b from dictionary \"parameters\"\n",
    "    w = parameters[\"w\"]\n",
    "    b = parameters[\"b\"]\n",
    "    \n",
    "    # Predict test/train set examples (≈ 2 lines of code)\n",
    "    Y_prediction_test = predict(w, b, X_test)\n",
    "    Y_prediction_train = predict(w, b, X_train)\n",
    "\n",
    "    ### END CODE HERE ###\n",
    "\n",
    "    # Print train/test Errors\n",
    "    print(\"train accuracy: {} %\".format(100 - np.mean(np.abs(Y_prediction_train - Y_train)) * 100))\n",
    "    print(\"test accuracy: {} %\".format(100 - np.mean(np.abs(Y_prediction_test - Y_test)) * 100))\n",
    "\n",
    "    \n",
    "    d = {\"costs\": costs,\n",
    "         \"Y_prediction_test\": Y_prediction_test, \n",
    "         \"Y_prediction_train\" : Y_prediction_train, \n",
    "         \"w\" : w, \n",
    "         \"b\" : b,\n",
    "         \"learning_rate\" : learning_rate,\n",
    "         \"num_iterations\": num_iterations}\n",
    "    \n",
    "    return d\n"
   ]
  },
  {
   "cell_type": "code",
   "execution_count": 25,
   "id": "c3de0f54-a209-4eb5-9a92-6c282b5ed21a",
   "metadata": {},
   "outputs": [
    {
     "name": "stdout",
     "output_type": "stream",
     "text": [
      "Cost after iteration 0: 0.693147\n",
      "Cost after iteration 100: 0.584508\n",
      "Cost after iteration 200: 0.466949\n",
      "Cost after iteration 300: 0.376007\n",
      "Cost after iteration 400: 0.331463\n",
      "Cost after iteration 500: 0.303273\n",
      "Cost after iteration 600: 0.279880\n",
      "Cost after iteration 700: 0.260042\n",
      "Cost after iteration 800: 0.242941\n",
      "Cost after iteration 900: 0.228004\n",
      "Cost after iteration 1000: 0.214820\n",
      "Cost after iteration 1100: 0.203078\n",
      "Cost after iteration 1200: 0.192544\n",
      "Cost after iteration 1300: 0.183033\n",
      "Cost after iteration 1400: 0.174399\n",
      "Cost after iteration 1500: 0.166521\n",
      "Cost after iteration 1600: 0.159305\n",
      "Cost after iteration 1700: 0.152667\n",
      "Cost after iteration 1800: 0.146542\n",
      "Cost after iteration 1900: 0.140872\n",
      "train accuracy: 99.04306220095694 %\n",
      "test accuracy: 70.0 %\n"
     ]
    }
   ],
   "source": [
    "d = model(train_set_x, trainY_org, test_set_x, testY_org, num_iterations = 2000, learning_rate = 0.005, print_cost = True)"
   ]
  }
 ],
 "metadata": {
  "kernelspec": {
   "display_name": "Python 3 (ipykernel)",
   "language": "python",
   "name": "python3"
  },
  "language_info": {
   "codemirror_mode": {
    "name": "ipython",
    "version": 3
   },
   "file_extension": ".py",
   "mimetype": "text/x-python",
   "name": "python",
   "nbconvert_exporter": "python",
   "pygments_lexer": "ipython3",
   "version": "3.12.4"
  }
 },
 "nbformat": 4,
 "nbformat_minor": 5
}
