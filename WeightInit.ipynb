{
 "cells": [
  {
   "cell_type": "code",
   "execution_count": null,
   "id": "7c40d898-1daf-4072-a86c-a4ac586ee9bf",
   "metadata": {},
   "outputs": [],
   "source": [
    "# wieght initilization https://pytorch.org/docs/stable/nn.init.html#torch.nn.init.uniform_"
   ]
  },
  {
   "cell_type": "code",
   "execution_count": 1,
   "id": "f49d0b9b-2709-4de2-a357-7c7a24ed51e9",
   "metadata": {},
   "outputs": [],
   "source": [
    "import torch \n",
    "import torch.nn as nn"
   ]
  },
  {
   "cell_type": "code",
   "execution_count": 3,
   "id": "06ee61ee-b0e4-425d-b941-24f548cbe555",
   "metadata": {},
   "outputs": [],
   "source": [
    "layer = nn.Linear(5,5)"
   ]
  },
  {
   "cell_type": "code",
   "execution_count": 11,
   "id": "8d75f158-084e-41d8-bbeb-f1420c987846",
   "metadata": {},
   "outputs": [
    {
     "name": "stdout",
     "output_type": "stream",
     "text": [
      "Parameter containing:\n",
      "tensor([[-0.4438,  0.3959, -0.0465, -0.1749, -0.0568],\n",
      "        [-0.3617,  0.0580, -0.3535,  0.0810,  0.4364],\n",
      "        [ 0.1988, -0.4456, -0.2978, -0.2096,  0.3230],\n",
      "        [-0.0589, -0.0729,  0.1991, -0.2337,  0.2379],\n",
      "        [-0.3837,  0.4339,  0.1316, -0.1610,  0.1662]], requires_grad=True)\n"
     ]
    }
   ],
   "source": [
    "print(layer.weight)"
   ]
  },
  {
   "cell_type": "code",
   "execution_count": 30,
   "id": "395109b9-14db-473f-b672-da1528befb7e",
   "metadata": {},
   "outputs": [
    {
     "data": {
      "text/plain": [
       "Parameter containing:\n",
       "tensor([[2.6658, 0.3266, 0.1356, 0.0389, 1.8907],\n",
       "        [2.5012, 0.6768, 1.9795, 2.3481, 1.0710],\n",
       "        [0.2518, 0.1424, 1.7857, 0.3791, 0.2323],\n",
       "        [0.1054, 2.7240, 2.1900, 0.6961, 1.3072],\n",
       "        [0.3866, 2.5829, 1.2070, 2.5607, 2.3733]], requires_grad=True)"
      ]
     },
     "execution_count": 30,
     "metadata": {},
     "output_type": "execute_result"
    }
   ],
   "source": [
    "torch.nn.init.uniform_(layer.weight, a=0.0, b=3.0, generator=None)"
   ]
  },
  {
   "cell_type": "code",
   "execution_count": 37,
   "id": "1cc99fa2-a41b-4e07-8c00-bc90e2631bfa",
   "metadata": {},
   "outputs": [
    {
     "data": {
      "text/plain": [
       "Parameter containing:\n",
       "tensor([[-0.4747, -0.4968, -0.5173,  1.8801,  1.6839],\n",
       "        [-2.3123, -0.8341, -0.4870, -0.9279,  0.4503],\n",
       "        [ 1.0962,  0.7558,  0.4729,  0.0615, -1.0742],\n",
       "        [-0.9688, -0.2460, -1.7820,  0.2152, -1.0891],\n",
       "        [-0.3140, -2.2577,  0.8867,  0.2656,  0.3595]], requires_grad=True)"
      ]
     },
     "execution_count": 37,
     "metadata": {},
     "output_type": "execute_result"
    }
   ],
   "source": [
    "torch.nn.init.normal_(layer.weight, mean=0.0, std=1.0, generator=None)"
   ]
  },
  {
   "cell_type": "code",
   "execution_count": 49,
   "id": "4375b98b-2e05-407a-9e88-2878d6e47159",
   "metadata": {},
   "outputs": [
    {
     "name": "stdout",
     "output_type": "stream",
     "text": [
      "<class 'torch.nn.parameter.Parameter'>\n"
     ]
    }
   ],
   "source": [
    "print(type(layer.weight))"
   ]
  },
  {
   "cell_type": "code",
   "execution_count": null,
   "id": "e80ba978-487d-4ab7-9163-d43e9100eb5d",
   "metadata": {},
   "outputs": [],
   "source": []
  }
 ],
 "metadata": {
  "kernelspec": {
   "display_name": "Python 3 (ipykernel)",
   "language": "python",
   "name": "python3"
  },
  "language_info": {
   "codemirror_mode": {
    "name": "ipython",
    "version": 3
   },
   "file_extension": ".py",
   "mimetype": "text/x-python",
   "name": "python",
   "nbconvert_exporter": "python",
   "pygments_lexer": "ipython3",
   "version": "3.12.4"
  }
 },
 "nbformat": 4,
 "nbformat_minor": 5
}
