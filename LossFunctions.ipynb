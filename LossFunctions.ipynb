{
 "cells": [
  {
   "cell_type": "code",
   "execution_count": null,
   "id": "2db56ae6-08b0-4444-a0f6-0353624e6e0a",
   "metadata": {},
   "outputs": [],
   "source": [
    "#go to documentation of loss functions  ---- https://pytorch.org/docs/stable/nn.html#loss-functions"
   ]
  },
  {
   "cell_type": "code",
   "execution_count": 11,
   "id": "f0e79f0f-3448-4aab-ad5d-b4b90e7e1762",
   "metadata": {},
   "outputs": [],
   "source": [
    "import torch\n",
    "import torch.nn as nn"
   ]
  },
  {
   "cell_type": "code",
   "execution_count": 31,
   "id": "d911e259-f192-456a-9454-5e5f4f3f5955",
   "metadata": {},
   "outputs": [
    {
     "name": "stdout",
     "output_type": "stream",
     "text": [
      "tensor([[-1.2216,  0.2844, -1.5690,  1.0068, -0.3407],\n",
      "        [-0.2544, -0.3441,  0.7546,  1.5141, -0.0505],\n",
      "        [ 0.2554, -0.7698,  0.0421,  0.1288,  0.0899],\n",
      "        [ 1.6311,  1.1587, -0.1275, -0.6875, -0.5922]])\n"
     ]
    }
   ],
   "source": [
    "pred = torch.randn(4,5)\n",
    "print(pred)"
   ]
  },
  {
   "cell_type": "code",
   "execution_count": 33,
   "id": "62bf0d46-6c73-4864-9163-1651654c9e85",
   "metadata": {},
   "outputs": [
    {
     "name": "stdout",
     "output_type": "stream",
     "text": [
      "tensor([[-1.0420,  1.0089, -0.8899,  1.7082,  0.0460],\n",
      "        [-1.1091,  1.3561,  1.8723,  0.1703, -0.7455],\n",
      "        [ 0.4266,  0.9298, -1.2204, -1.0248, -0.3711],\n",
      "        [-0.9037, -0.7180,  1.8989, -0.5040, -0.6609]])\n"
     ]
    }
   ],
   "source": [
    "label = torch.randn(4,5)\n",
    "print(label)"
   ]
  },
  {
   "cell_type": "code",
   "execution_count": 58,
   "id": "4b987d99-26f0-442d-9548-5f5b19749ee5",
   "metadata": {},
   "outputs": [],
   "source": [
    "mse = torch.nn.MSELoss(reduction='mean')"
   ]
  },
  {
   "cell_type": "code",
   "execution_count": 60,
   "id": "0360e27d-9a1e-45c7-aa39-729366225e6e",
   "metadata": {},
   "outputs": [
    {
     "name": "stdout",
     "output_type": "stream",
     "text": [
      "tensor(1.4483)\n"
     ]
    }
   ],
   "source": [
    "loss = mse(pred , label)\n",
    "print(loss)"
   ]
  },
  {
   "cell_type": "code",
   "execution_count": 62,
   "id": "ca701de7-9f8f-452f-a9ec-65a76c353c03",
   "metadata": {},
   "outputs": [
    {
     "data": {
      "text/plain": [
       "tensor(1.4483)"
      ]
     },
     "execution_count": 62,
     "metadata": {},
     "output_type": "execute_result"
    }
   ],
   "source": [
    "#mse in python\n",
    "((pred-label)**2).mean()"
   ]
  },
  {
   "cell_type": "code",
   "execution_count": 81,
   "id": "8375d079-00eb-4bd2-b4eb-74cc0c93cb27",
   "metadata": {},
   "outputs": [
    {
     "data": {
      "text/plain": [
       "tensor([[1., 0., 0., 1., 0.],\n",
       "        [1., 0., 1., 1., 0.],\n",
       "        [0., 0., 0., 0., 1.],\n",
       "        [1., 1., 0., 1., 1.]])"
      ]
     },
     "execution_count": 81,
     "metadata": {},
     "output_type": "execute_result"
    }
   ],
   "source": [
    "label0 = torch.zeros(4,5).random_(0,2)\n",
    "label0"
   ]
  },
  {
   "cell_type": "code",
   "execution_count": null,
   "id": "93276f0b-ee03-4491-80ae-6646182a4728",
   "metadata": {},
   "outputs": [],
   "source": [
    "sigmoid = nn.Sigmoid()"
   ]
  }
 ],
 "metadata": {
  "kernelspec": {
   "display_name": "Python 3 (ipykernel)",
   "language": "python",
   "name": "python3"
  },
  "language_info": {
   "codemirror_mode": {
    "name": "ipython",
    "version": 3
   },
   "file_extension": ".py",
   "mimetype": "text/x-python",
   "name": "python",
   "nbconvert_exporter": "python",
   "pygments_lexer": "ipython3",
   "version": "3.12.4"
  }
 },
 "nbformat": 4,
 "nbformat_minor": 5
}
